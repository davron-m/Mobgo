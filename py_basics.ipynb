{
 "cells": [
  {
   "cell_type": "code",
   "execution_count": 1,
   "id": "3ddb42fb",
   "metadata": {},
   "outputs": [
    {
     "data": {
      "text/plain": [
       "'Davron'"
      ]
     },
     "execution_count": 1,
     "metadata": {},
     "output_type": "execute_result"
    }
   ],
   "source": [
    "ism = \"Davron\"\n",
    "ism"
   ]
  },
  {
   "cell_type": "code",
   "execution_count": 2,
   "id": "81fd652d",
   "metadata": {},
   "outputs": [
    {
     "data": {
      "text/plain": [
       "2064625338096"
      ]
     },
     "execution_count": 2,
     "metadata": {},
     "output_type": "execute_result"
    }
   ],
   "source": [
    "id(ism)  "
   ]
  },
  {
   "cell_type": "code",
   "execution_count": 4,
   "id": "ddfeb90c",
   "metadata": {},
   "outputs": [],
   "source": [
    "from sys import getsizeof"
   ]
  },
  {
   "cell_type": "code",
   "execution_count": 5,
   "id": "3c35f5f6",
   "metadata": {},
   "outputs": [
    {
     "data": {
      "text/plain": [
       "55"
      ]
     },
     "execution_count": 5,
     "metadata": {},
     "output_type": "execute_result"
    }
   ],
   "source": [
    "getsizeof(ism)"
   ]
  },
  {
   "cell_type": "code",
   "execution_count": 6,
   "id": "45a5dfc7",
   "metadata": {},
   "outputs": [
    {
     "data": {
      "text/plain": [
       "2064646388784"
      ]
     },
     "execution_count": 6,
     "metadata": {},
     "output_type": "execute_result"
    }
   ],
   "source": [
    "ism = \"Alisher\"\n",
    "id(ism)"
   ]
  },
  {
   "cell_type": "code",
   "execution_count": 7,
   "id": "8d2c4967",
   "metadata": {},
   "outputs": [],
   "source": [
    "import math\n",
    "import os\n",
    "import random\n",
    "import re\n",
    "import sys\n",
    "\n",
    "\n"
   ]
  },
  {
   "cell_type": "code",
   "execution_count": 8,
   "id": "47bf0aa6",
   "metadata": {},
   "outputs": [],
   "source": [
    "n = 5"
   ]
  },
  {
   "cell_type": "code",
   "execution_count": 12,
   "id": "712646a6",
   "metadata": {},
   "outputs": [
    {
     "data": {
      "text/plain": [
       "5"
      ]
     },
     "execution_count": 12,
     "metadata": {},
     "output_type": "execute_result"
    }
   ],
   "source": [
    "n"
   ]
  },
  {
   "cell_type": "code",
   "execution_count": 22,
   "id": "23212fbe",
   "metadata": {},
   "outputs": [],
   "source": [
    "def bitta_oshir(x):\n",
    "    x = x+1\n",
    "    return x"
   ]
  },
  {
   "cell_type": "code",
   "execution_count": 23,
   "id": "6ecf22de",
   "metadata": {},
   "outputs": [
    {
     "data": {
      "text/plain": [
       "2064646311504"
      ]
     },
     "execution_count": 23,
     "metadata": {},
     "output_type": "execute_result"
    }
   ],
   "source": [
    "id(bitta_oshir)"
   ]
  },
  {
   "cell_type": "code",
   "execution_count": 24,
   "id": "271a53ad",
   "metadata": {},
   "outputs": [
    {
     "data": {
      "text/plain": [
       "6"
      ]
     },
     "execution_count": 24,
     "metadata": {},
     "output_type": "execute_result"
    }
   ],
   "source": [
    "bitta_oshir(n)"
   ]
  },
  {
   "cell_type": "code",
   "execution_count": 27,
   "id": "10efcaa7",
   "metadata": {},
   "outputs": [
    {
     "data": {
      "text/plain": [
       "24"
      ]
     },
     "execution_count": 27,
     "metadata": {},
     "output_type": "execute_result"
    }
   ],
   "source": [
    "def son(a, b):\n",
    "    return a + b\n",
    "\n",
    "x1 = 9\n",
    "x2 = 15\n",
    "son(x1, x2)\n"
   ]
  },
  {
   "cell_type": "code",
   "execution_count": 39,
   "id": "d50ce4b0",
   "metadata": {},
   "outputs": [],
   "source": [
    "def masala(n):\n",
    "    r = \"\"\n",
    "    if n % 2 == 1:\n",
    "        r = \"Weird\"\n",
    "    elif n % 2 == 0 and n >= 2 and n <= 5:\n",
    "        r = \"Not Weird\"\n",
    "    elif n % 2 == 0 and n >= 5 and n <= 20:\n",
    "        r = \"Weird\"\n",
    "    elif n % 2 == 0 and n > 20:\n",
    "        r = \"Weird\"\n",
    "    return r\n",
    "        "
   ]
  },
  {
   "cell_type": "code",
   "execution_count": 41,
   "id": "44db0b7b",
   "metadata": {},
   "outputs": [
    {
     "data": {
      "text/plain": [
       "'Weird'"
      ]
     },
     "execution_count": 41,
     "metadata": {},
     "output_type": "execute_result"
    }
   ],
   "source": [
    "son1 = 6\n",
    "masala(son1)\n"
   ]
  },
  {
   "cell_type": "code",
   "execution_count": 42,
   "id": "29cd7563",
   "metadata": {},
   "outputs": [],
   "source": [
    "def sum(a, b):\n",
    "    return a + b\n",
    "def ayirma(a, b):\n",
    "    return a - b\n",
    "def kop(a, b):\n",
    "    return a * b\n"
   ]
  },
  {
   "cell_type": "code",
   "execution_count": 43,
   "id": "016bfd05",
   "metadata": {},
   "outputs": [],
   "source": [
    "def sonlar(n):\n",
    "    m = 0\n",
    "    for i in range(n):\n",
    "        m = i ** 2\n",
    "        print(m)\n",
    "        \n",
    "        \n",
    "    \n",
    "    "
   ]
  },
  {
   "cell_type": "code",
   "execution_count": 44,
   "id": "49d7eff2",
   "metadata": {},
   "outputs": [],
   "source": [
    "def leap_year(n):\n",
    "    natija = False\n",
    "    if n % 4 == 0:\n",
    "        if not n % 100 == 0:\n",
    "            if n % 400 == 0:\n",
    "                natija = True\n",
    "    return natija"
   ]
  },
  {
   "cell_type": "code",
   "execution_count": 46,
   "id": "b53db05e",
   "metadata": {},
   "outputs": [
    {
     "data": {
      "text/plain": [
       "'12'"
      ]
     },
     "execution_count": 46,
     "metadata": {},
     "output_type": "execute_result"
    }
   ],
   "source": [
    "r = \"\"\n",
    "r = r + str(1)\n",
    "r = r + str(2)\n",
    "r"
   ]
  },
  {
   "cell_type": "code",
   "execution_count": 47,
   "id": "e24cce44",
   "metadata": {},
   "outputs": [],
   "source": [
    "def ren(n):\n",
    "    l = \"\"\n",
    "    for i in range(n + 1):\n",
    "        l = l + str(i)\n",
    "    return l\n",
    "    \n",
    "    "
   ]
  },
  {
   "cell_type": "code",
   "execution_count": 55,
   "id": "b4f286de",
   "metadata": {},
   "outputs": [],
   "source": [
    "def toldir(x, y, z, n):\n",
    "    natija =  []\n",
    "    n1 = []\n",
    "    for i in range(x+1):\n",
    "        for j in range(y+1):\n",
    "            for k in range(z+1):\n",
    "                n1 = [i, j, k]\n",
    "                if i + j + k != n:\n",
    "                    natija.append(n1)\n",
    "    return natija\n"
   ]
  },
  {
   "cell_type": "code",
   "execution_count": 56,
   "id": "70e8b637",
   "metadata": {},
   "outputs": [],
   "source": [
    "x = 1\n",
    "y =1\n",
    "z =2\n",
    "n =3\n"
   ]
  },
  {
   "cell_type": "code",
   "execution_count": 57,
   "id": "8bf4e352",
   "metadata": {},
   "outputs": [
    {
     "data": {
      "text/plain": [
       "[[0, 0, 0],\n",
       " [0, 0, 1],\n",
       " [0, 0, 2],\n",
       " [0, 1, 0],\n",
       " [0, 1, 1],\n",
       " [1, 0, 0],\n",
       " [1, 0, 1],\n",
       " [1, 1, 0],\n",
       " [1, 1, 2]]"
      ]
     },
     "execution_count": 57,
     "metadata": {},
     "output_type": "execute_result"
    }
   ],
   "source": [
    "toldir(x,y,z,n)"
   ]
  },
  {
   "cell_type": "code",
   "execution_count": null,
   "id": "a0847fe1",
   "metadata": {},
   "outputs": [],
   "source": []
  }
 ],
 "metadata": {
  "kernelspec": {
   "display_name": "Python 3.10.4 64-bit",
   "language": "python",
   "name": "python3"
  },
  "language_info": {
   "codemirror_mode": {
    "name": "ipython",
    "version": 3
   },
   "file_extension": ".py",
   "mimetype": "text/x-python",
   "name": "python",
   "nbconvert_exporter": "python",
   "pygments_lexer": "ipython3",
   "version": "3.10.4"
  },
  "vscode": {
   "interpreter": {
    "hash": "6f131547ef0899c6c51e0d106cbfd19e7b9aa6e4e9c57d47cd87a11e0b81d8a3"
   }
  }
 },
 "nbformat": 4,
 "nbformat_minor": 5
}
